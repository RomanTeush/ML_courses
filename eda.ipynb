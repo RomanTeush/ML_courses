{
 "cells": [
  {
   "cell_type": "code",
   "execution_count": 240,
   "id": "b489cb9e",
   "metadata": {},
   "outputs": [],
   "source": [
    "import pandas as pd\n",
    "import numpy as np\n",
    "import matplotlib.pyplot as plt\n",
    "import seaborn as sns\n",
    "\n",
    "plt.style.use('seaborn-whitegrid')"
   ]
  },
  {
   "cell_type": "markdown",
   "id": "d07912a0",
   "metadata": {},
   "source": [
    "# Context"
   ]
  },
  {
   "cell_type": "code",
   "execution_count": 241,
   "id": "6b981d68",
   "metadata": {},
   "outputs": [],
   "source": [
    "dataset = pd.read_csv('train.csv')"
   ]
  },
  {
   "cell_type": "code",
   "execution_count": 242,
   "id": "387f9f18",
   "metadata": {},
   "outputs": [
    {
     "name": "stdout",
     "output_type": "stream",
     "text": [
      "<class 'pandas.core.frame.DataFrame'>\n",
      "RangeIndex: 100000 entries, 0 to 99999\n",
      "Data columns (total 12 columns):\n",
      " #   Column       Non-Null Count   Dtype  \n",
      "---  ------       --------------   -----  \n",
      " 0   PassengerId  100000 non-null  int64  \n",
      " 1   Survived     100000 non-null  int64  \n",
      " 2   Pclass       100000 non-null  int64  \n",
      " 3   Name         100000 non-null  object \n",
      " 4   Sex          100000 non-null  object \n",
      " 5   Age          96708 non-null   float64\n",
      " 6   SibSp        100000 non-null  int64  \n",
      " 7   Parch        100000 non-null  int64  \n",
      " 8   Ticket       95377 non-null   object \n",
      " 9   Fare         99866 non-null   float64\n",
      " 10  Cabin        32134 non-null   object \n",
      " 11  Embarked     99750 non-null   object \n",
      "dtypes: float64(2), int64(5), object(5)\n",
      "memory usage: 9.2+ MB\n"
     ]
    }
   ],
   "source": [
    "dataset.info()"
   ]
  },
  {
   "cell_type": "markdown",
   "id": "9b4320c6",
   "metadata": {},
   "source": [
    "# Data quality assessment"
   ]
  },
  {
   "cell_type": "code",
   "execution_count": 243,
   "id": "9ac32427",
   "metadata": {},
   "outputs": [
    {
     "data": {
      "text/html": [
       "<div>\n",
       "<style scoped>\n",
       "    .dataframe tbody tr th:only-of-type {\n",
       "        vertical-align: middle;\n",
       "    }\n",
       "\n",
       "    .dataframe tbody tr th {\n",
       "        vertical-align: top;\n",
       "    }\n",
       "\n",
       "    .dataframe thead th {\n",
       "        text-align: right;\n",
       "    }\n",
       "</style>\n",
       "<table border=\"1\" class=\"dataframe\">\n",
       "  <thead>\n",
       "    <tr style=\"text-align: right;\">\n",
       "      <th></th>\n",
       "      <th>PassengerId</th>\n",
       "      <th>Survived</th>\n",
       "      <th>Pclass</th>\n",
       "      <th>Name</th>\n",
       "      <th>Sex</th>\n",
       "      <th>Age</th>\n",
       "      <th>SibSp</th>\n",
       "      <th>Parch</th>\n",
       "      <th>Ticket</th>\n",
       "      <th>Fare</th>\n",
       "      <th>Cabin</th>\n",
       "      <th>Embarked</th>\n",
       "    </tr>\n",
       "  </thead>\n",
       "  <tbody>\n",
       "    <tr>\n",
       "      <th>0</th>\n",
       "      <td>0</td>\n",
       "      <td>1</td>\n",
       "      <td>1</td>\n",
       "      <td>Oconnor, Frankie</td>\n",
       "      <td>male</td>\n",
       "      <td>NaN</td>\n",
       "      <td>2</td>\n",
       "      <td>0</td>\n",
       "      <td>209245</td>\n",
       "      <td>27.14</td>\n",
       "      <td>C12239</td>\n",
       "      <td>S</td>\n",
       "    </tr>\n",
       "    <tr>\n",
       "      <th>1</th>\n",
       "      <td>1</td>\n",
       "      <td>0</td>\n",
       "      <td>3</td>\n",
       "      <td>Bryan, Drew</td>\n",
       "      <td>male</td>\n",
       "      <td>NaN</td>\n",
       "      <td>0</td>\n",
       "      <td>0</td>\n",
       "      <td>27323</td>\n",
       "      <td>13.35</td>\n",
       "      <td>NaN</td>\n",
       "      <td>S</td>\n",
       "    </tr>\n",
       "    <tr>\n",
       "      <th>2</th>\n",
       "      <td>2</td>\n",
       "      <td>0</td>\n",
       "      <td>3</td>\n",
       "      <td>Owens, Kenneth</td>\n",
       "      <td>male</td>\n",
       "      <td>0.33</td>\n",
       "      <td>1</td>\n",
       "      <td>2</td>\n",
       "      <td>CA 457703</td>\n",
       "      <td>71.29</td>\n",
       "      <td>NaN</td>\n",
       "      <td>S</td>\n",
       "    </tr>\n",
       "    <tr>\n",
       "      <th>3</th>\n",
       "      <td>3</td>\n",
       "      <td>0</td>\n",
       "      <td>3</td>\n",
       "      <td>Kramer, James</td>\n",
       "      <td>male</td>\n",
       "      <td>19.00</td>\n",
       "      <td>0</td>\n",
       "      <td>0</td>\n",
       "      <td>A. 10866</td>\n",
       "      <td>13.04</td>\n",
       "      <td>NaN</td>\n",
       "      <td>S</td>\n",
       "    </tr>\n",
       "    <tr>\n",
       "      <th>4</th>\n",
       "      <td>4</td>\n",
       "      <td>1</td>\n",
       "      <td>3</td>\n",
       "      <td>Bond, Michael</td>\n",
       "      <td>male</td>\n",
       "      <td>25.00</td>\n",
       "      <td>0</td>\n",
       "      <td>0</td>\n",
       "      <td>427635</td>\n",
       "      <td>7.76</td>\n",
       "      <td>NaN</td>\n",
       "      <td>S</td>\n",
       "    </tr>\n",
       "  </tbody>\n",
       "</table>\n",
       "</div>"
      ],
      "text/plain": [
       "   PassengerId  Survived  Pclass              Name   Sex    Age  SibSp  Parch  \\\n",
       "0            0         1       1  Oconnor, Frankie  male    NaN      2      0   \n",
       "1            1         0       3       Bryan, Drew  male    NaN      0      0   \n",
       "2            2         0       3    Owens, Kenneth  male   0.33      1      2   \n",
       "3            3         0       3     Kramer, James  male  19.00      0      0   \n",
       "4            4         1       3     Bond, Michael  male  25.00      0      0   \n",
       "\n",
       "      Ticket   Fare   Cabin Embarked  \n",
       "0     209245  27.14  C12239        S  \n",
       "1      27323  13.35     NaN        S  \n",
       "2  CA 457703  71.29     NaN        S  \n",
       "3   A. 10866  13.04     NaN        S  \n",
       "4     427635   7.76     NaN        S  "
      ]
     },
     "execution_count": 243,
     "metadata": {},
     "output_type": "execute_result"
    }
   ],
   "source": [
    "dataset.head(5)"
   ]
  },
  {
   "cell_type": "code",
   "execution_count": 244,
   "id": "126ddcbd",
   "metadata": {},
   "outputs": [
    {
     "data": {
      "text/plain": [
       "True"
      ]
     },
     "execution_count": 244,
     "metadata": {},
     "output_type": "execute_result"
    }
   ],
   "source": [
    "#Проверка на повторы\n",
    "dataset.drop_duplicates().shape[0] == dataset.shape[0]"
   ]
  },
  {
   "cell_type": "code",
   "execution_count": 245,
   "id": "6080e2eb",
   "metadata": {},
   "outputs": [
    {
     "data": {
      "text/plain": [
       "count    96708.000000\n",
       "mean        38.355472\n",
       "std         18.313556\n",
       "min          0.080000\n",
       "25%         25.000000\n",
       "50%         39.000000\n",
       "75%         53.000000\n",
       "max         87.000000\n",
       "Name: Age, dtype: float64"
      ]
     },
     "execution_count": 245,
     "metadata": {},
     "output_type": "execute_result"
    },
    {
     "data": {
      "text/plain": [
       "<Figure size 1440x432 with 0 Axes>"
      ]
     },
     "metadata": {},
     "output_type": "display_data"
    },
    {
     "data": {
      "image/png": "[encoded data removed]",
      "text/plain": [
       "<Figure size 720x360 with 1 Axes>"
      ]
     },
     "metadata": {},
     "output_type": "display_data"
    }
   ],
   "source": [
    "# распределение пассжиров по возрасту\n",
    "plt.figure(figsize=(20, 6))\n",
    "sns.displot(dataset.Age, kde=True, bins=40, height=5, aspect=2)\n",
    "plt.title('Passenger age distibution', size=18)\n",
    "dataset.Age.describe()"
   ]
  },
  {
   "cell_type": "code",
   "execution_count": 246,
   "id": "12360912",
   "metadata": {},
   "outputs": [
    {
     "data": {
      "text/plain": [
       "Text(0.5, 1.0, 'Passenger age distibution')"
      ]
     },
     "execution_count": 246,
     "metadata": {},
     "output_type": "execute_result"
    },
    {
     "data": {
      "text/plain": [
       "<Figure size 1440x432 with 0 Axes>"
      ]
     },
     "metadata": {},
     "output_type": "display_data"
    },
    {
     "data": {
      "image/png": "[encoded data removed]",
      "text/plain": [
       "<Figure size 360x360 with 1 Axes>"
      ]
     },
     "metadata": {},
     "output_type": "display_data"
    }
   ],
   "source": [
    "plt.figure(figsize=(20, 6))\n",
    "sns.displot(dataset.Sex,  height=5)\n",
    "plt.title('Passenger age distibution', size=18)"
   ]
  },
  {
   "cell_type": "code",
   "execution_count": 268,
   "id": "4a3bca1c",
   "metadata": {},
   "outputs": [
    {
     "name": "stdout",
     "output_type": "stream",
     "text": [
      "male      56114\n",
      "female    43886\n",
      "Name: Sex, dtype: int64\n"
     ]
    }
   ],
   "source": [
    "print(dataset.Sex.value_counts())"
   ]
  },
  {
   "cell_type": "markdown",
   "id": "7944ddde",
   "metadata": {},
   "source": [
    "Поскольку мы хотим вообще узнать что влияет на выживаемость пассажиров нашего \"Титаника\", мы можем избиваться от столбцов, которые по моему мнению не могут повлиять на выживаемость. я выбрал Name, Ticket, Cabin, Embarked"
   ]
  },
  {
   "cell_type": "code",
   "execution_count": 247,
   "id": "de70176e",
   "metadata": {},
   "outputs": [],
   "source": [
    "dataset = dataset.drop(['Name', 'Ticket', 'Cabin', 'Embarked'], axis=1)"
   ]
  },
  {
   "cell_type": "markdown",
   "id": "9c6c2bb7",
   "metadata": {},
   "source": [
    "Теперь нам надо необходимо избавиться от значений Nan, собственно я это решил делать заменой Нанов на среднее значение по датасету для определенного столбца, как мы видим из инфы нашего датасета, это необходимо проделать для столбцов Age и Fare"
   ]
  },
  {
   "cell_type": "code",
   "execution_count": 248,
   "id": "f6795c33",
   "metadata": {},
   "outputs": [],
   "source": [
    "dataset['Age'] = dataset['Age'].fillna(dataset['Age'].mean())\n",
    "dataset['Fare'] = dataset['Fare'].fillna(dataset['Fare'].mean())"
   ]
  },
  {
   "cell_type": "code",
   "execution_count": 249,
   "id": "80e7e62f",
   "metadata": {},
   "outputs": [
    {
     "name": "stdout",
     "output_type": "stream",
     "text": [
      "<class 'pandas.core.frame.DataFrame'>\n",
      "RangeIndex: 100000 entries, 0 to 99999\n",
      "Data columns (total 8 columns):\n",
      " #   Column       Non-Null Count   Dtype  \n",
      "---  ------       --------------   -----  \n",
      " 0   PassengerId  100000 non-null  int64  \n",
      " 1   Survived     100000 non-null  int64  \n",
      " 2   Pclass       100000 non-null  int64  \n",
      " 3   Sex          100000 non-null  object \n",
      " 4   Age          100000 non-null  float64\n",
      " 5   SibSp        100000 non-null  int64  \n",
      " 6   Parch        100000 non-null  int64  \n",
      " 7   Fare         100000 non-null  float64\n",
      "dtypes: float64(2), int64(5), object(1)\n",
      "memory usage: 6.1+ MB\n"
     ]
    }
   ],
   "source": [
    "dataset.info()"
   ]
  },
  {
   "cell_type": "code",
   "execution_count": null,
   "id": "f5f11c4f",
   "metadata": {},
   "outputs": [],
   "source": []
  },
  {
   "cell_type": "markdown",
   "id": "7677be0c",
   "metadata": {},
   "source": [
    "Теперь наш датасет готов к тому чтобы работать с ним"
   ]
  },
  {
   "cell_type": "markdown",
   "id": "5408eca5",
   "metadata": {},
   "source": [
    "# Data exploration"
   ]
  },
  {
   "cell_type": "code",
   "execution_count": 250,
   "id": "2417286d",
   "metadata": {},
   "outputs": [
    {
     "data": {
      "text/html": [
       "<div>\n",
       "<style scoped>\n",
       "    .dataframe tbody tr th:only-of-type {\n",
       "        vertical-align: middle;\n",
       "    }\n",
       "\n",
       "    .dataframe tbody tr th {\n",
       "        vertical-align: top;\n",
       "    }\n",
       "\n",
       "    .dataframe thead th {\n",
       "        text-align: right;\n",
       "    }\n",
       "</style>\n",
       "<table border=\"1\" class=\"dataframe\">\n",
       "  <thead>\n",
       "    <tr style=\"text-align: right;\">\n",
       "      <th></th>\n",
       "      <th>PassengerId</th>\n",
       "      <th>Survived</th>\n",
       "      <th>Pclass</th>\n",
       "      <th>Age</th>\n",
       "      <th>SibSp</th>\n",
       "      <th>Parch</th>\n",
       "      <th>Fare</th>\n",
       "    </tr>\n",
       "  </thead>\n",
       "  <tbody>\n",
       "    <tr>\n",
       "      <th>count</th>\n",
       "      <td>100000.000000</td>\n",
       "      <td>100000.000000</td>\n",
       "      <td>100000.000000</td>\n",
       "      <td>100000.000000</td>\n",
       "      <td>100000.000000</td>\n",
       "      <td>100000.000000</td>\n",
       "      <td>100000.00000</td>\n",
       "    </tr>\n",
       "    <tr>\n",
       "      <th>mean</th>\n",
       "      <td>49999.500000</td>\n",
       "      <td>0.427740</td>\n",
       "      <td>2.106910</td>\n",
       "      <td>38.355472</td>\n",
       "      <td>0.397690</td>\n",
       "      <td>0.454560</td>\n",
       "      <td>43.92933</td>\n",
       "    </tr>\n",
       "    <tr>\n",
       "      <th>std</th>\n",
       "      <td>28867.657797</td>\n",
       "      <td>0.494753</td>\n",
       "      <td>0.837727</td>\n",
       "      <td>18.009589</td>\n",
       "      <td>0.862566</td>\n",
       "      <td>0.950076</td>\n",
       "      <td>69.54218</td>\n",
       "    </tr>\n",
       "    <tr>\n",
       "      <th>min</th>\n",
       "      <td>0.000000</td>\n",
       "      <td>0.000000</td>\n",
       "      <td>1.000000</td>\n",
       "      <td>0.080000</td>\n",
       "      <td>0.000000</td>\n",
       "      <td>0.000000</td>\n",
       "      <td>0.68000</td>\n",
       "    </tr>\n",
       "    <tr>\n",
       "      <th>25%</th>\n",
       "      <td>24999.750000</td>\n",
       "      <td>0.000000</td>\n",
       "      <td>1.000000</td>\n",
       "      <td>25.000000</td>\n",
       "      <td>0.000000</td>\n",
       "      <td>0.000000</td>\n",
       "      <td>10.04000</td>\n",
       "    </tr>\n",
       "    <tr>\n",
       "      <th>50%</th>\n",
       "      <td>49999.500000</td>\n",
       "      <td>0.000000</td>\n",
       "      <td>2.000000</td>\n",
       "      <td>38.355472</td>\n",
       "      <td>0.000000</td>\n",
       "      <td>0.000000</td>\n",
       "      <td>24.49000</td>\n",
       "    </tr>\n",
       "    <tr>\n",
       "      <th>75%</th>\n",
       "      <td>74999.250000</td>\n",
       "      <td>1.000000</td>\n",
       "      <td>3.000000</td>\n",
       "      <td>53.000000</td>\n",
       "      <td>1.000000</td>\n",
       "      <td>1.000000</td>\n",
       "      <td>33.56000</td>\n",
       "    </tr>\n",
       "    <tr>\n",
       "      <th>max</th>\n",
       "      <td>99999.000000</td>\n",
       "      <td>1.000000</td>\n",
       "      <td>3.000000</td>\n",
       "      <td>87.000000</td>\n",
       "      <td>8.000000</td>\n",
       "      <td>9.000000</td>\n",
       "      <td>744.66000</td>\n",
       "    </tr>\n",
       "  </tbody>\n",
       "</table>\n",
       "</div>"
      ],
      "text/plain": [
       "         PassengerId       Survived         Pclass            Age  \\\n",
       "count  100000.000000  100000.000000  100000.000000  100000.000000   \n",
       "mean    49999.500000       0.427740       2.106910      38.355472   \n",
       "std     28867.657797       0.494753       0.837727      18.009589   \n",
       "min         0.000000       0.000000       1.000000       0.080000   \n",
       "25%     24999.750000       0.000000       1.000000      25.000000   \n",
       "50%     49999.500000       0.000000       2.000000      38.355472   \n",
       "75%     74999.250000       1.000000       3.000000      53.000000   \n",
       "max     99999.000000       1.000000       3.000000      87.000000   \n",
       "\n",
       "               SibSp          Parch          Fare  \n",
       "count  100000.000000  100000.000000  100000.00000  \n",
       "mean        0.397690       0.454560      43.92933  \n",
       "std         0.862566       0.950076      69.54218  \n",
       "min         0.000000       0.000000       0.68000  \n",
       "25%         0.000000       0.000000      10.04000  \n",
       "50%         0.000000       0.000000      24.49000  \n",
       "75%         1.000000       1.000000      33.56000  \n",
       "max         8.000000       9.000000     744.66000  "
      ]
     },
     "execution_count": 250,
     "metadata": {},
     "output_type": "execute_result"
    }
   ],
   "source": [
    "dataset.describe()"
   ]
  },
  {
   "cell_type": "code",
   "execution_count": 270,
   "id": "5a4dcac9",
   "metadata": {},
   "outputs": [
    {
     "name": "stdout",
     "output_type": "stream",
     "text": [
      "42.774\n"
     ]
    }
   ],
   "source": [
    "print(dataset.Survived.value_counts()[1]/sum(dataset.Survived.value_counts()) * 100)"
   ]
  },
  {
   "cell_type": "markdown",
   "id": "d1aad388",
   "metadata": {},
   "source": [
    "Как мы видим по описательному анализу выжило у нас 42.77% пассажиров, средний возраст всех пассажиров составил 38,4 года, средняя стоимость билета была 43,92 деняг (пусть будут доллары)\n",
    "Однако нам интересно найти какие-либо зависимости которые помогли пассажирам вижить а не пойти на корм акулам, поэтому мы анализируем дальше\n",
    "Я решил что сначала надо понять насколько зажравшиеся господы 1-го класса более выживаемы чем обычные работяги 3-го класса"
   ]
  },
  {
   "cell_type": "code",
   "execution_count": 251,
   "id": "d0d6cd75",
   "metadata": {},
   "outputs": [],
   "source": [
    "piv_class = dataset.pivot_table('PassengerId', 'Pclass', 'Survived', 'count')"
   ]
  },
  {
   "cell_type": "code",
   "execution_count": 252,
   "id": "0be061a3",
   "metadata": {},
   "outputs": [
    {
     "data": {
      "text/plain": [
       "<AxesSubplot:title={'center':'Surviving by class'}, xlabel='Passenger class', ylabel='Count'>"
      ]
     },
     "execution_count": 252,
     "metadata": {},
     "output_type": "execute_result"
    },
    {
     "data": {
      "image/png": "[encoded data removed]",
      "text/plain": [
       "<Figure size 432x288 with 1 Axes>"
      ]
     },
     "metadata": {},
     "output_type": "display_data"
    }
   ],
   "source": [
    "piv_class.plot(kind='bar',stacked = True, title = 'Surviving by class', ylabel = 'Count', xlabel = 'Passenger class')"
   ]
  },
  {
   "cell_type": "code",
   "execution_count": 253,
   "id": "ba89bea4",
   "metadata": {},
   "outputs": [
    {
     "name": "stdout",
     "output_type": "stream",
     "text": [
      "Survive ratio for passengers by class is: 1-st class - 57.98%, 2-nd class - 52.5%, 3-rd class - 24.73%\n"
     ]
    }
   ],
   "source": [
    "piv_class_sum = piv_class.sum(axis = 1)\n",
    "survive_ratio = round(((piv_class.iloc[:,1] / piv_class_sum) * 100),2)\n",
    "print(f'Survive ratio for passengers by class is: 1-st class - {survive_ratio[1]}%, 2-nd class - {survive_ratio[2]}%, 3-rd class - {survive_ratio[3]}%')"
   ]
  },
  {
   "cell_type": "markdown",
   "id": "c83964c8",
   "metadata": {},
   "source": [
    "Теперь мы хотим узнать насколько более везучие у нас женщины, для этого мы проделываем то же самое, только не для класса пассажира, а для пола"
   ]
  },
  {
   "cell_type": "code",
   "execution_count": 254,
   "id": "00e52d2f",
   "metadata": {},
   "outputs": [
    {
     "data": {
      "text/html": [
       "<div>\n",
       "<style scoped>\n",
       "    .dataframe tbody tr th:only-of-type {\n",
       "        vertical-align: middle;\n",
       "    }\n",
       "\n",
       "    .dataframe tbody tr th {\n",
       "        vertical-align: top;\n",
       "    }\n",
       "\n",
       "    .dataframe thead th {\n",
       "        text-align: right;\n",
       "    }\n",
       "</style>\n",
       "<table border=\"1\" class=\"dataframe\">\n",
       "  <thead>\n",
       "    <tr style=\"text-align: right;\">\n",
       "      <th>Survived</th>\n",
       "      <th>0</th>\n",
       "      <th>1</th>\n",
       "    </tr>\n",
       "    <tr>\n",
       "      <th>Sex</th>\n",
       "      <th></th>\n",
       "      <th></th>\n",
       "    </tr>\n",
       "  </thead>\n",
       "  <tbody>\n",
       "    <tr>\n",
       "      <th>female</th>\n",
       "      <td>12660</td>\n",
       "      <td>31226</td>\n",
       "    </tr>\n",
       "    <tr>\n",
       "      <th>male</th>\n",
       "      <td>44566</td>\n",
       "      <td>11548</td>\n",
       "    </tr>\n",
       "  </tbody>\n",
       "</table>\n",
       "</div>"
      ],
      "text/plain": [
       "Survived      0      1\n",
       "Sex                   \n",
       "female    12660  31226\n",
       "male      44566  11548"
      ]
     },
     "execution_count": 254,
     "metadata": {},
     "output_type": "execute_result"
    }
   ],
   "source": [
    "piv_sex = dataset.pivot_table('PassengerId', 'Sex', 'Survived', 'count')\n",
    "piv_sex"
   ]
  },
  {
   "cell_type": "code",
   "execution_count": 255,
   "id": "2d9b0e97",
   "metadata": {},
   "outputs": [
    {
     "data": {
      "text/plain": [
       "<AxesSubplot:title={'center':'Surviving by sex'}, xlabel='Passenger sex', ylabel='Count'>"
      ]
     },
     "execution_count": 255,
     "metadata": {},
     "output_type": "execute_result"
    },
    {
     "data": {
      "image/png": "[encoded data removed]",
      "text/plain": [
       "<Figure size 432x288 with 1 Axes>"
      ]
     },
     "metadata": {},
     "output_type": "display_data"
    }
   ],
   "source": [
    "piv_sex.plot(kind='bar',stacked = True, title = 'Surviving by sex', ylabel = 'Count', xlabel = 'Passenger sex')"
   ]
  },
  {
   "cell_type": "code",
   "execution_count": 256,
   "id": "17274047",
   "metadata": {},
   "outputs": [
    {
     "name": "stdout",
     "output_type": "stream",
     "text": [
      "Survive ratio for passengers by sex is: Female - 71.15%, Male - 20.58%\n"
     ]
    }
   ],
   "source": [
    "piv_sex_sum = piv_sex.sum(axis = 1)\n",
    "survive_ratio_sex = round(((piv_sex.iloc[:,1] / piv_sex_sum) * 100),2)\n",
    "print(f'Survive ratio for passengers by sex is: Female - {survive_ratio_sex[0]}%, Male - {survive_ratio_sex[1]}%')"
   ]
  },
  {
   "cell_type": "markdown",
   "id": "a7263770",
   "metadata": {},
   "source": [
    "На данном этапе мы выяснили, что лучше быть пассажиров женщиной которая может себе позволить билет 1-го класса, но теперь давайте разберемся что насчет семейства? лучше быть с ними или отправиться в путешествие на титанике в одиночку?"
   ]
  },
  {
   "cell_type": "code",
   "execution_count": 275,
   "id": "c8010eba",
   "metadata": {},
   "outputs": [],
   "source": [
    "piv_sibl = dataset.pivot_table('PassengerId', 'SibSp', 'Survived', 'count')\n",
    "piv_parch = dataset.pivot_table('PassengerId', 'Parch', 'Survived', 'count')\n",
    "sum_parch = piv_parch.sum(axis=1)\n",
    "sum_sibl = piv_sibl.sum(axis=1)\n",
    "dist_sibl = (piv_sibl.iloc[:,1]/sum_sibl) *100\n",
    "dist_parch = (piv_parch.iloc[:,1]/sum_parch) *100"
   ]
  },
  {
   "cell_type": "code",
   "execution_count": 258,
   "id": "acf76e96",
   "metadata": {},
   "outputs": [
    {
     "data": {
      "text/plain": [
       "<AxesSubplot:title={'center':'Parents/Children'}, xlabel='Parch'>"
      ]
     },
     "execution_count": 258,
     "metadata": {},
     "output_type": "execute_result"
    },
    {
     "data": {
      "image/png": "[encoded data removed]",
      "text/plain": [
       "<Figure size 432x288 with 1 Axes>"
      ]
     },
     "metadata": {},
     "output_type": "display_data"
    },
    {
     "data": {
      "image/png": "[encoded data removed]",
      "text/plain": [
       "<Figure size 432x288 with 1 Axes>"
      ]
     },
     "metadata": {},
     "output_type": "display_data"
    }
   ],
   "source": [
    "piv_sibl.plot(title='Siblings/Spouse')\n",
    "piv_parch.plot(title='Parents/Children')"
   ]
  },
  {
   "cell_type": "markdown",
   "id": "ae0be020",
   "metadata": {},
   "source": [
    "Собственно из этих графиков и видно, что чем больше у тебя родственников\\детей\\жен тем меньше вероятность у тебя спастись\n",
    "Дальше надо разобраться с возрастом. Так как возрастов слишком много (непрерывная величина, как никак) намного проще разбить данный признак на некоторое количество групп, я решил что у меня этих групп будет 4"
   ]
  },
  {
   "cell_type": "code",
   "execution_count": 259,
   "id": "760fb9ef",
   "metadata": {},
   "outputs": [],
   "source": [
    "age_gr = dataset.groupby(['PassengerId', 'Survived'])['Age'].sum().reset_index()\n",
    "dead = age_gr[age_gr.Survived == 0]\n",
    "alive = age_gr[age_gr.Survived == 1]"
   ]
  },
  {
   "cell_type": "code",
   "execution_count": 267,
   "id": "12968851",
   "metadata": {},
   "outputs": [
    {
     "data": {
      "text/plain": [
       "<AxesSubplot:title={'center':'Alive passenges distribution by age'}, ylabel='Frequency'>"
      ]
     },
     "execution_count": 267,
     "metadata": {},
     "output_type": "execute_result"
    },
    {
     "data": {
      "image/png": "[encoded data removed]",
      "text/plain": [
       "<Figure size 432x288 with 1 Axes>"
      ]
     },
     "metadata": {},
     "output_type": "display_data"
    }
   ],
   "source": [
    "alive['Age'].plot(kind='hist',title = 'Alive passengers distribution by age', xlabel ='age', ylabel ='Count')\n"
   ]
  },
  {
   "cell_type": "code",
   "execution_count": 261,
   "id": "aad61510",
   "metadata": {},
   "outputs": [
    {
     "data": {
      "text/plain": [
       "<AxesSubplot:ylabel='Frequency'>"
      ]
     },
     "execution_count": 261,
     "metadata": {},
     "output_type": "execute_result"
    },
    {
     "data": {
      "image/png": "[encoded data removed]",
      "text/plain": [
       "<Figure size 432x288 with 1 Axes>"
      ]
     },
     "metadata": {},
     "output_type": "display_data"
    }
   ],
   "source": [
    "dead['Age'].plot(kind='hist',title = 'Dead passengers distribution by age', xlabel ='age', ylabel ='Count'))"
   ]
  },
  {
   "cell_type": "code",
   "execution_count": 262,
   "id": "ddd7beaa",
   "metadata": {},
   "outputs": [],
   "source": [
    "children = dataset[dataset['Age']<=16]\n",
    "juvenile = dataset[(dataset['Age'] > 16) & (dataset['Age'] < 25)]\n",
    "adults = dataset[(dataset['Age']>=25)&(dataset['Age']<60)]\n",
    "old = dataset[dataset['Age']>=60]"
   ]
  },
  {
   "cell_type": "code",
   "execution_count": 263,
   "id": "4bc6bcc9",
   "metadata": {},
   "outputs": [],
   "source": [
    "children_survived_sum = children[children.Survived == 1]['Survived'].sum()\n",
    "juvenile_survived_sum = juvenile[juvenile.Survived == 1]['Survived'].sum()\n",
    "adults_survived_sum = adults[adults.Survived == 1]['Survived'].sum()\n",
    "old_survived_sum = old[old.Survived == 1]['Survived'].sum()"
   ]
  },
  {
   "cell_type": "code",
   "execution_count": 264,
   "id": "11179be5",
   "metadata": {},
   "outputs": [
    {
     "name": "stdout",
     "output_type": "stream",
     "text": [
      "Survive ratio by age is:\n",
      " children - 44.189295381122854\n",
      " juvenile - 30.12068387529333\n",
      " adults - 42.77691895132031\n",
      " old - 52.953634369563574\n"
     ]
    }
   ],
   "source": [
    "surv_by_age_ratio_ch = (children_survived_sum/len(children) *100)\n",
    "surv_by_age_ratio_ju = (juvenile_survived_sum/len(juvenile) *100)\n",
    "surv_by_age_ratio_ad = (adults_survived_sum/len(adults) *100)\n",
    "surv_by_age_ratio_old = (old_survived_sum/len(old) *100)\n",
    "print(f'Survive ratio by age is:\\n children - {surv_by_age_ratio_ch}\\n juvenile - {surv_by_age_ratio_ju}\\n adults - {surv_by_age_ratio_ad}\\n old - {surv_by_age_ratio_old}')"
   ]
  },
  {
   "cell_type": "markdown",
   "id": "034945c8",
   "metadata": {},
   "source": [
    "# Summary"
   ]
  },
  {
   "cell_type": "markdown",
   "id": "8d72ee68",
   "metadata": {},
   "source": [
    "Исходя из проведенной мной работы могу заключить следующее:\n",
    "Наш \"Титаник\" со 100000 людей на борту пошел ко дну, однако выживаемость все таки составила 42,77%\n",
    "количество мужчин на борту 56114 (выживаемость - 20.58%), количество женщин на борту 43886(выживаемость - 71.15%), что позволяет нам предположить что прекрасный пол эвакуировался прежде всего, а мужчины в это время благочестиво слушали оркестр.\n",
    "Среди пассажиров разного класса выживаемость получилась следующая: 1 класс - 57.98%, 2 класс - 52.5%, 3 класс - 24.73%, что можно объяснить тем что каюты первого класса как правило находятся выше, а следовательно сокращается время бега до спасательной шлюбки (но или можно объяснить тем что люди они так себе и всегда лезут вперед, но тут уже кто как пожелает)\n",
    "Анализ выживаемости относительно возраста тоже показался довольно интересным на нашем многолюдном \"Титанике\":  младше 16 лет - 44.19%, 16 - 25 лет -  30.12%, 25-60 лет - 42.77%\n",
    "старше 60 лет - 52.95%, что в целом объясняется тем, что вероятнее всего старались в первую очередь спасти стариков и детей\n",
    "Так же наш анализ показал что лучше бы быть без родственников\\детей\\подруг\\жен (нужное подчеркнуть) чем с ними.\n"
   ]
  },
  {
   "cell_type": "markdown",
   "id": "c4729cbc",
   "metadata": {},
   "source": [
    "Подытоживая мою работу могу сказать что задание конечно нам досталось довольно абстрактное и требующее определенно хорошего воображения :)\n",
    "Но если бы я оказался на таком титанике, я бы предпочел быть одинокой женщиной преклонного возраста в каюте первого класса))"
   ]
  }
 ],
 "metadata": {
  "kernelspec": {
   "display_name": "Python 3 (ipykernel)",
   "language": "python",
   "name": "python3"
  },
  "language_info": {
   "codemirror_mode": {
    "name": "ipython",
    "version": 3
   },
   "file_extension": ".py",
   "mimetype": "text/x-python",
   "name": "python",
   "nbconvert_exporter": "python",
   "pygments_lexer": "ipython3",
   "version": "3.10.1"
  },
  "toc": {
   "base_numbering": 1,
   "nav_menu": {},
   "number_sections": true,
   "sideBar": true,
   "skip_h1_title": false,
   "title_cell": "Table of Contents",
   "title_sidebar": "Contents",
   "toc_cell": false,
   "toc_position": {},
   "toc_section_display": true,
   "toc_window_display": false
  }
 },
 "nbformat": 4,
 "nbformat_minor": 5
}
